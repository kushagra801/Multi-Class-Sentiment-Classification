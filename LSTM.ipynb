{
 "cells": [
  {
   "cell_type": "code",
   "execution_count": 1,
   "id": "a6b29520",
   "metadata": {},
   "outputs": [
    {
     "name": "stdout",
     "output_type": "stream",
     "text": [
      "[name: \"/device:CPU:0\"\n",
      "device_type: \"CPU\"\n",
      "memory_limit: 268435456\n",
      "locality {\n",
      "}\n",
      "incarnation: 10936751051029595696\n",
      ", name: \"/device:GPU:0\"\n",
      "device_type: \"GPU\"\n",
      "memory_limit: 4183621632\n",
      "locality {\n",
      "  bus_id: 1\n",
      "  links {\n",
      "  }\n",
      "}\n",
      "incarnation: 2932910418668083976\n",
      "physical_device_desc: \"device: 0, name: GeForce GTX 1660 Ti, pci bus id: 0000:01:00.0, compute capability: 7.5\"\n",
      "]\n"
     ]
    }
   ],
   "source": [
    "from tensorflow.python.client import device_lib \n",
    "print(device_lib.list_local_devices())"
   ]
  },
  {
   "cell_type": "code",
   "execution_count": 16,
   "id": "5507781c",
   "metadata": {},
   "outputs": [],
   "source": [
    "import os \n",
    "os.environ[\"TF_FORCE_GPU_ALLOW_GROWTH\"]=\"true\""
   ]
  },
  {
   "cell_type": "code",
   "execution_count": 1,
   "id": "8d86baeb",
   "metadata": {},
   "outputs": [],
   "source": [
    "import tensorflow as tf\n",
    "import numpy as np"
   ]
  },
  {
   "cell_type": "code",
   "execution_count": 2,
   "id": "1ff93c43",
   "metadata": {},
   "outputs": [
    {
     "name": "stdout",
     "output_type": "stream",
     "text": [
      "Found 40994 files belonging to 5 classes.\n",
      "Using 32796 files for training.\n"
     ]
    }
   ],
   "source": [
    "seed=101\n",
    "train_ds = tf.keras.preprocessing.text_dataset_from_directory(\n",
    "            directory='corona_tweets/train',\n",
    "            labels='inferred',\n",
    "            seed=seed,\n",
    "            subset='training',\n",
    "            validation_split=0.2)"
   ]
  },
  {
   "cell_type": "code",
   "execution_count": 3,
   "id": "62e0b6f8",
   "metadata": {},
   "outputs": [
    {
     "name": "stdout",
     "output_type": "stream",
     "text": [
      "Found 40994 files belonging to 5 classes.\n",
      "Using 8198 files for validation.\n"
     ]
    }
   ],
   "source": [
    "val_ds = tf.keras.preprocessing.text_dataset_from_directory(\n",
    "            directory='corona_tweets/train',\n",
    "            labels='inferred',\n",
    "            seed=seed,\n",
    "            subset='validation',\n",
    "            validation_split=0.2)"
   ]
  },
  {
   "cell_type": "code",
   "execution_count": 4,
   "id": "cfff1432",
   "metadata": {},
   "outputs": [],
   "source": [
    "encoder = tf.keras.layers.experimental.preprocessing.TextVectorization()\n",
    "#adapt sets the layers vocabulary\n",
    "encoder.adapt(train_ds.map(lambda text, label: text))"
   ]
  },
  {
   "cell_type": "code",
   "execution_count": 5,
   "id": "7408d3d9",
   "metadata": {},
   "outputs": [
    {
     "name": "stdout",
     "output_type": "stream",
     "text": [
      "['' '[UNK]' 'covid' 'prices' 'food' 'store' 'supermarket' 'grocery'\n",
      " 'people' 'amp' 'consumer' 'shopping' 'online' 'get' 'need' 'pandemic'\n",
      " 'us' 'workers' 'panic' 'like']\n"
     ]
    }
   ],
   "source": [
    "vocab = np.array(encoder.get_vocabulary())\n",
    "print(vocab[:20])"
   ]
  },
  {
   "cell_type": "code",
   "execution_count": 6,
   "id": "ba6668b8",
   "metadata": {},
   "outputs": [],
   "source": [
    "model = tf.keras.Sequential([\n",
    "    #encoder conversts text to tokens of sequence indices\n",
    "    encoder,\n",
    "    #converts series of words to a series of vector embeddings\n",
    "    tf.keras.layers.Embedding(\n",
    "        input_dim=len(encoder.get_vocabulary()),\n",
    "        output_dim=512,\n",
    "        # Use masking to handle the variable sequence lengths\n",
    "        mask_zero=True),\n",
    "    tf.keras.layers.LSTM(512, return_sequences=True),\n",
    "    tf.keras.layers.LSTM(256, return_sequences=True),\n",
    "    tf.keras.layers.LSTM(128, return_sequences=True),\n",
    "    tf.keras.layers.LSTM(64, return_sequences=True),\n",
    "    tf.keras.layers.GlobalMaxPooling1D(),\n",
    "    tf.keras.layers.Dropout(0.2),\n",
    "    tf.keras.layers.Dense(64, activation='relu'),\n",
    "    tf.keras.layers.Dense(5)\n",
    "])"
   ]
  },
  {
   "cell_type": "code",
   "execution_count": 7,
   "id": "4efb3ff3",
   "metadata": {},
   "outputs": [
    {
     "name": "stdout",
     "output_type": "stream",
     "text": [
      "Model: \"sequential\"\n",
      "_________________________________________________________________\n",
      "Layer (type)                 Output Shape              Param #   \n",
      "=================================================================\n",
      "text_vectorization (TextVect (None, None)              0         \n",
      "_________________________________________________________________\n",
      "embedding (Embedding)        (None, None, 512)         16961536  \n",
      "_________________________________________________________________\n",
      "lstm (LSTM)                  (None, None, 512)         2099200   \n",
      "_________________________________________________________________\n",
      "lstm_1 (LSTM)                (None, None, 256)         787456    \n",
      "_________________________________________________________________\n",
      "lstm_2 (LSTM)                (None, None, 128)         197120    \n",
      "_________________________________________________________________\n",
      "lstm_3 (LSTM)                (None, None, 64)          49408     \n",
      "_________________________________________________________________\n",
      "global_max_pooling1d (Global (None, 64)                0         \n",
      "_________________________________________________________________\n",
      "dropout (Dropout)            (None, 64)                0         \n",
      "_________________________________________________________________\n",
      "dense (Dense)                (None, 64)                4160      \n",
      "_________________________________________________________________\n",
      "dense_1 (Dense)              (None, 5)                 325       \n",
      "=================================================================\n",
      "Total params: 20,099,205\n",
      "Trainable params: 20,099,205\n",
      "Non-trainable params: 0\n",
      "_________________________________________________________________\n"
     ]
    }
   ],
   "source": [
    "model.summary()"
   ]
  },
  {
   "cell_type": "code",
   "execution_count": 7,
   "id": "23cc874d",
   "metadata": {},
   "outputs": [],
   "source": [
    "epochs = 6\n",
    "loss = tf.keras.losses.SparseCategoricalCrossentropy(name='sparse_categorical_crossentropy', from_logits=True)\n",
    "\n",
    "model.compile(optimizer=tf.keras.optimizers.Adam(learning_rate=1e-3), loss=loss, metrics=['accuracy'])"
   ]
  },
  {
   "cell_type": "code",
   "execution_count": 8,
   "id": "14a534ea",
   "metadata": {},
   "outputs": [
    {
     "name": "stdout",
     "output_type": "stream",
     "text": [
      "Epoch 1/6\n",
      "1025/1025 [==============================] - 70s 53ms/step - loss: 1.0843 - accuracy: 0.5503 - val_loss: 0.7564 - val_accuracy: 0.7203\n",
      "Epoch 2/6\n",
      "1025/1025 [==============================] - 52s 51ms/step - loss: 0.6435 - accuracy: 0.7706 - val_loss: 0.7462 - val_accuracy: 0.7280\n",
      "Epoch 3/6\n",
      "1025/1025 [==============================] - 49s 48ms/step - loss: 0.4438 - accuracy: 0.8478 - val_loss: 0.8166 - val_accuracy: 0.7308\n",
      "Epoch 4/6\n",
      "1025/1025 [==============================] - 48s 47ms/step - loss: 0.3252 - accuracy: 0.8936 - val_loss: 0.9349 - val_accuracy: 0.7251\n",
      "Epoch 5/6\n",
      "1025/1025 [==============================] - 48s 47ms/step - loss: 0.2483 - accuracy: 0.9191 - val_loss: 0.9607 - val_accuracy: 0.7310\n",
      "Epoch 6/6\n",
      "1025/1025 [==============================] - 48s 47ms/step - loss: 0.1994 - accuracy: 0.9348 - val_loss: 1.0868 - val_accuracy: 0.7277\n"
     ]
    }
   ],
   "source": [
    "history = model.fit(x=train_ds,\n",
    "                    validation_data=val_ds,\n",
    "                    epochs=epochs)"
   ]
  },
  {
   "cell_type": "code",
   "execution_count": 12,
   "id": "18e2f838",
   "metadata": {},
   "outputs": [],
   "source": [
    "import pickle\n",
    "outfile = open('history_lstm', 'wb')\n",
    "pickle.dump(history.history, outfile)\n",
    "outfile.close()"
   ]
  },
  {
   "cell_type": "code",
   "execution_count": 9,
   "id": "e98a52a1",
   "metadata": {},
   "outputs": [
    {
     "name": "stdout",
     "output_type": "stream",
     "text": [
      "Found 40994 files belonging to 5 classes.\n"
     ]
    }
   ],
   "source": [
    "test_ds = tf.keras.preprocessing.text_dataset_from_directory(\n",
    "            directory='corona_tweets/test',\n",
    "            labels='inferred')"
   ]
  },
  {
   "cell_type": "code",
   "execution_count": 10,
   "id": "cdedaff4",
   "metadata": {},
   "outputs": [
    {
     "name": "stdout",
     "output_type": "stream",
     "text": [
      "1282/1282 [==============================] - 20s 15ms/step - loss: 0.4139 - accuracy: 0.8808\n"
     ]
    },
    {
     "data": {
      "text/plain": [
       "[0.41391855478286743, 0.880763053894043]"
      ]
     },
     "execution_count": 10,
     "metadata": {},
     "output_type": "execute_result"
    }
   ],
   "source": [
    "model.evaluate(test_ds)"
   ]
  },
  {
   "cell_type": "code",
   "execution_count": null,
   "id": "7dee7726",
   "metadata": {},
   "outputs": [],
   "source": [
    "#1: [0.4081849157810211, 0.8810069561004639]\n",
    "#2: [0.3951323330402374, 0.8812509179115295]\n",
    "#3: [0.41391855478286743, 0.880763053894043]"
   ]
  },
  {
   "cell_type": "code",
   "execution_count": 12,
   "id": "9d5b9fc8",
   "metadata": {},
   "outputs": [
    {
     "data": {
      "text/plain": [
       "array([0.40574527, 0.88100698])"
      ]
     },
     "execution_count": 12,
     "metadata": {},
     "output_type": "execute_result"
    }
   ],
   "source": [
    "#avereging test loss and accuracy over 3 attempts\n",
    "ave_result = np.add([0.41391855478286743, 0.880763053894043], np.add([0.4081849157810211, 0.8810069561004639], [0.3951323330402374, 0.8812509179115295]))/3\n",
    "ave_result"
   ]
  },
  {
   "cell_type": "code",
   "execution_count": null,
   "id": "a0a711ea",
   "metadata": {},
   "outputs": [],
   "source": []
  }
 ],
 "metadata": {
  "kernelspec": {
   "display_name": "tf_gpu",
   "language": "python",
   "name": "tf_gpu"
  },
  "language_info": {
   "codemirror_mode": {
    "name": "ipython",
    "version": 3
   },
   "file_extension": ".py",
   "mimetype": "text/x-python",
   "name": "python",
   "nbconvert_exporter": "python",
   "pygments_lexer": "ipython3",
   "version": "3.9.7"
  }
 },
 "nbformat": 4,
 "nbformat_minor": 5
}

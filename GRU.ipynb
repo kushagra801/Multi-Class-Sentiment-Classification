{
 "cells": [
  {
   "cell_type": "code",
   "execution_count": 1,
   "id": "08564f06",
   "metadata": {},
   "outputs": [
    {
     "name": "stdout",
     "output_type": "stream",
     "text": [
      "[name: \"/device:CPU:0\"\n",
      "device_type: \"CPU\"\n",
      "memory_limit: 268435456\n",
      "locality {\n",
      "}\n",
      "incarnation: 14464988342089127054\n",
      ", name: \"/device:GPU:0\"\n",
      "device_type: \"GPU\"\n",
      "memory_limit: 4183621632\n",
      "locality {\n",
      "  bus_id: 1\n",
      "  links {\n",
      "  }\n",
      "}\n",
      "incarnation: 7389182106827825085\n",
      "physical_device_desc: \"device: 0, name: GeForce GTX 1660 Ti, pci bus id: 0000:01:00.0, compute capability: 7.5\"\n",
      "]\n"
     ]
    }
   ],
   "source": [
    "from tensorflow.python.client import device_lib \n",
    "print(device_lib.list_local_devices())"
   ]
  },
  {
   "cell_type": "code",
   "execution_count": 1,
   "id": "f02ceeb8",
   "metadata": {},
   "outputs": [],
   "source": [
    "import os \n",
    "os.environ[\"TF_FORCE_GPU_ALLOW_GROWTH\"]=\"true\""
   ]
  },
  {
   "cell_type": "code",
   "execution_count": 2,
   "id": "b067e81d",
   "metadata": {},
   "outputs": [],
   "source": [
    "import tensorflow as tf\n",
    "import numpy as np"
   ]
  },
  {
   "cell_type": "code",
   "execution_count": 3,
   "id": "384e0444",
   "metadata": {},
   "outputs": [
    {
     "name": "stdout",
     "output_type": "stream",
     "text": [
      "Found 40994 files belonging to 5 classes.\n",
      "Using 32796 files for training.\n"
     ]
    }
   ],
   "source": [
    "seed=101\n",
    "train_ds = tf.keras.preprocessing.text_dataset_from_directory(\n",
    "            directory='corona_tweets/train',\n",
    "            labels='inferred',\n",
    "            seed=seed,\n",
    "            subset='training',\n",
    "            validation_split=0.2)"
   ]
  },
  {
   "cell_type": "code",
   "execution_count": 4,
   "id": "b1a0191b",
   "metadata": {},
   "outputs": [
    {
     "name": "stdout",
     "output_type": "stream",
     "text": [
      "Found 40994 files belonging to 5 classes.\n",
      "Using 8198 files for validation.\n"
     ]
    }
   ],
   "source": [
    "val_ds = tf.keras.preprocessing.text_dataset_from_directory(\n",
    "            directory='corona_tweets/train',\n",
    "            labels='inferred',\n",
    "            seed=seed,\n",
    "            subset='validation',\n",
    "            validation_split=0.2)"
   ]
  },
  {
   "cell_type": "code",
   "execution_count": 5,
   "id": "a119adfd",
   "metadata": {},
   "outputs": [],
   "source": [
    "encoder = tf.keras.layers.experimental.preprocessing.TextVectorization()\n",
    "#adapt sets the layers vocabulary\n",
    "encoder.adapt(train_ds.map(lambda text, label: text))"
   ]
  },
  {
   "cell_type": "code",
   "execution_count": 6,
   "id": "66744979",
   "metadata": {},
   "outputs": [
    {
     "name": "stdout",
     "output_type": "stream",
     "text": [
      "['' '[UNK]' 'covid' 'prices' 'food' 'store' 'supermarket' 'grocery'\n",
      " 'people' 'amp' 'consumer' 'shopping' 'online' 'get' 'need' 'pandemic'\n",
      " 'us' 'workers' 'panic' 'like']\n"
     ]
    }
   ],
   "source": [
    "vocab = np.array(encoder.get_vocabulary())\n",
    "print(vocab[:20])"
   ]
  },
  {
   "cell_type": "code",
   "execution_count": 7,
   "id": "42d088c9",
   "metadata": {},
   "outputs": [],
   "source": [
    "model = tf.keras.Sequential([\n",
    "    #encoder conversts text to tokens of sequence indices\n",
    "    encoder,\n",
    "    #converts series of words to a series of vector embeddings\n",
    "    tf.keras.layers.Embedding(\n",
    "        input_dim=len(encoder.get_vocabulary()),\n",
    "        output_dim=512,\n",
    "        # Use masking to handle the variable sequence lengths\n",
    "        mask_zero=True),\n",
    "    tf.keras.layers.GRU(512, return_sequences=True),\n",
    "    tf.keras.layers.GRU(256, return_sequences=True),\n",
    "    tf.keras.layers.GRU(128, return_sequences=True),\n",
    "    tf.keras.layers.GRU(64, return_sequences=True),\n",
    "    tf.keras.layers.GlobalMaxPooling1D(),\n",
    "    tf.keras.layers.Dropout(0.2),\n",
    "    tf.keras.layers.Dense(64, activation='relu'),\n",
    "    tf.keras.layers.Dense(5)\n",
    "])"
   ]
  },
  {
   "cell_type": "code",
   "execution_count": 7,
   "id": "b39be1d2",
   "metadata": {},
   "outputs": [
    {
     "name": "stdout",
     "output_type": "stream",
     "text": [
      "Model: \"sequential\"\n",
      "_________________________________________________________________\n",
      "Layer (type)                 Output Shape              Param #   \n",
      "=================================================================\n",
      "text_vectorization (TextVect (None, None)              0         \n",
      "_________________________________________________________________\n",
      "embedding (Embedding)        (None, None, 512)         16961536  \n",
      "_________________________________________________________________\n",
      "gru (GRU)                    (None, None, 512)         1575936   \n",
      "_________________________________________________________________\n",
      "gru_1 (GRU)                  (None, None, 256)         591360    \n",
      "_________________________________________________________________\n",
      "gru_2 (GRU)                  (None, None, 128)         148224    \n",
      "_________________________________________________________________\n",
      "gru_3 (GRU)                  (None, None, 64)          37248     \n",
      "_________________________________________________________________\n",
      "global_max_pooling1d (Global (None, 64)                0         \n",
      "_________________________________________________________________\n",
      "dropout (Dropout)            (None, 64)                0         \n",
      "_________________________________________________________________\n",
      "dense (Dense)                (None, 64)                4160      \n",
      "_________________________________________________________________\n",
      "dense_1 (Dense)              (None, 5)                 325       \n",
      "=================================================================\n",
      "Total params: 19,318,789\n",
      "Trainable params: 19,318,789\n",
      "Non-trainable params: 0\n",
      "_________________________________________________________________\n"
     ]
    }
   ],
   "source": [
    "model.summary()"
   ]
  },
  {
   "cell_type": "code",
   "execution_count": 8,
   "id": "a2e0122e",
   "metadata": {},
   "outputs": [],
   "source": [
    "epochs = 6\n",
    "loss = tf.keras.losses.SparseCategoricalCrossentropy(name='sparse_categorical_crossentropy', from_logits=True)\n",
    "\n",
    "model.compile(optimizer=tf.keras.optimizers.Adam(learning_rate=1e-3), loss=loss, metrics=['accuracy'])"
   ]
  },
  {
   "cell_type": "code",
   "execution_count": 9,
   "id": "25cdbb2f",
   "metadata": {},
   "outputs": [
    {
     "name": "stdout",
     "output_type": "stream",
     "text": [
      "Epoch 1/6\n",
      "1025/1025 [==============================] - 64s 48ms/step - loss: 1.0464 - accuracy: 0.5728 - val_loss: 0.7646 - val_accuracy: 0.7221\n",
      "Epoch 2/6\n",
      "1025/1025 [==============================] - 44s 43ms/step - loss: 0.6529 - accuracy: 0.7619 - val_loss: 0.7358 - val_accuracy: 0.7404\n",
      "Epoch 3/6\n",
      "1025/1025 [==============================] - 48s 47ms/step - loss: 0.4750 - accuracy: 0.8378 - val_loss: 0.7890 - val_accuracy: 0.7410\n",
      "Epoch 4/6\n",
      "1025/1025 [==============================] - 45s 44ms/step - loss: 0.3626 - accuracy: 0.8793 - val_loss: 0.8806 - val_accuracy: 0.7279\n",
      "Epoch 5/6\n",
      "1025/1025 [==============================] - 45s 44ms/step - loss: 0.3005 - accuracy: 0.9017 - val_loss: 0.9994 - val_accuracy: 0.7147\n",
      "Epoch 6/6\n",
      "1025/1025 [==============================] - 45s 44ms/step - loss: 0.2514 - accuracy: 0.9186 - val_loss: 1.0512 - val_accuracy: 0.7218\n"
     ]
    }
   ],
   "source": [
    "history = model.fit(x=train_ds,\n",
    "                    validation_data=val_ds,\n",
    "                    epochs=epochs)"
   ]
  },
  {
   "cell_type": "code",
   "execution_count": 10,
   "id": "da6cf286",
   "metadata": {},
   "outputs": [],
   "source": [
    "import pickle\n",
    "outfile = open('history_gru', 'wb')\n",
    "pickle.dump(history.history, outfile)\n",
    "outfile.close()"
   ]
  },
  {
   "cell_type": "code",
   "execution_count": 10,
   "id": "422343af",
   "metadata": {},
   "outputs": [
    {
     "name": "stdout",
     "output_type": "stream",
     "text": [
      "Found 40994 files belonging to 5 classes.\n"
     ]
    }
   ],
   "source": [
    "test_ds = tf.keras.preprocessing.text_dataset_from_directory(\n",
    "            directory='corona_tweets/test',\n",
    "            labels='inferred')"
   ]
  },
  {
   "cell_type": "code",
   "execution_count": 11,
   "id": "ac625c1b",
   "metadata": {},
   "outputs": [
    {
     "name": "stdout",
     "output_type": "stream",
     "text": [
      "1282/1282 [==============================] - 17s 13ms/step - loss: 0.4007 - accuracy: 0.8827\n"
     ]
    },
    {
     "data": {
      "text/plain": [
       "[0.4006543755531311, 0.8826901316642761]"
      ]
     },
     "execution_count": 11,
     "metadata": {},
     "output_type": "execute_result"
    }
   ],
   "source": [
    "model.evaluate(test_ds)"
   ]
  },
  {
   "cell_type": "code",
   "execution_count": null,
   "id": "769be015",
   "metadata": {},
   "outputs": [],
   "source": [
    "#1: [0.41042381525039673, 0.8773478865623474]\n",
    "#2: [0.3899401128292084, 0.8850807547569275]\n",
    "#3: [0.4006543755531311, 0.8826901316642761]"
   ]
  },
  {
   "cell_type": "code",
   "execution_count": 16,
   "id": "816efe66",
   "metadata": {},
   "outputs": [
    {
     "data": {
      "text/plain": [
       "array([0.40033943, 0.88170626])"
      ]
     },
     "execution_count": 16,
     "metadata": {},
     "output_type": "execute_result"
    }
   ],
   "source": [
    "#averaging test loss and accuracy over three attempts\n",
    "ave_result = np.add([0.41042381525039673, 0.8773478865623474],np.add([0.3899401128292084, 0.8850807547569275],[0.4006543755531311, 0.8826901316642761]))/3\n",
    "ave_result"
   ]
  },
  {
   "cell_type": "code",
   "execution_count": null,
   "id": "bcf6da2c",
   "metadata": {},
   "outputs": [],
   "source": []
  }
 ],
 "metadata": {
  "kernelspec": {
   "display_name": "tf_gpu",
   "language": "python",
   "name": "tf_gpu"
  },
  "language_info": {
   "codemirror_mode": {
    "name": "ipython",
    "version": 3
   },
   "file_extension": ".py",
   "mimetype": "text/x-python",
   "name": "python",
   "nbconvert_exporter": "python",
   "pygments_lexer": "ipython3",
   "version": "3.9.7"
  }
 },
 "nbformat": 4,
 "nbformat_minor": 5
}
